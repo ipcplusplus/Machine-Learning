{
 "cells": [
  {
   "cell_type": "code",
   "execution_count": 1,
   "metadata": {
    "collapsed": true
   },
   "outputs": [],
   "source": [
    "import graphlab\n",
    "\n",
    "'''Check GraphLab Create version'''\n",
    "from distutils.version import StrictVersion\n",
    "assert (StrictVersion(graphlab.version) >= StrictVersion('1.8.5')), 'Updated GraphLab'"
   ]
  },
  {
   "cell_type": "code",
   "execution_count": 3,
   "metadata": {
    "collapsed": false
   },
   "outputs": [],
   "source": [
    "from em_utilities import *"
   ]
  },
  {
   "cell_type": "code",
   "execution_count": 4,
   "metadata": {
    "collapsed": false
   },
   "outputs": [
    {
     "name": "stdout",
     "output_type": "stream",
     "text": [
      "This non-commercial license of GraphLab Create for academic use is assigned to pukaracharya2052@gmail.com and will expire on July 25, 2018.\n"
     ]
    },
    {
     "name": "stderr",
     "output_type": "stream",
     "text": [
      "[INFO] graphlab.cython.cy_server: GraphLab Create v2.1 started. Logging: /tmp/graphlab_server_1510255961.log\n"
     ]
    }
   ],
   "source": [
    "wiki = graphlab.SFrame('people_wiki.gl/').head(5000)\n",
    "wiki['tf_idf'] = graphlab.text_analytics.tf_idf(wiki['text'])"
   ]
  },
  {
   "cell_type": "code",
   "execution_count": 5,
   "metadata": {
    "collapsed": true
   },
   "outputs": [],
   "source": [
    "tf_idf, map_index_to_word = sframe_to_scipy(wiki, 'tf_idf')"
   ]
  },
  {
   "cell_type": "code",
   "execution_count": 6,
   "metadata": {
    "collapsed": true
   },
   "outputs": [],
   "source": [
    "tf_idf = normalize(tf_idf)"
   ]
  },
  {
   "cell_type": "code",
   "execution_count": 7,
   "metadata": {
    "collapsed": false
   },
   "outputs": [
    {
     "name": "stdout",
     "output_type": "stream",
     "text": [
      "1.0\n",
      "1.0\n",
      "1.0\n",
      "1.0\n",
      "1.0\n"
     ]
    }
   ],
   "source": [
    "for i in range(5):\n",
    "    doc = tf_idf[i]\n",
    "    print(np.linalg.norm(doc.todense()))"
   ]
  },
  {
   "cell_type": "code",
   "execution_count": 8,
   "metadata": {
    "collapsed": true
   },
   "outputs": [],
   "source": [
    "from sklearn.cluster import KMeans\n",
    "\n",
    "np.random.seed(5)\n",
    "num_clusters = 25\n",
    "\n",
    "# Use scikit-learn's k-means to simplify workflow\n",
    "kmeans_model = KMeans(n_clusters=num_clusters, n_init=5, max_iter=400, random_state=1, n_jobs=-1)\n",
    "kmeans_model.fit(tf_idf)\n",
    "centroids, cluster_assignment = kmeans_model.cluster_centers_, kmeans_model.labels_\n",
    "\n",
    "means = [centroid for centroid in centroids]"
   ]
  },
  {
   "cell_type": "code",
   "execution_count": 9,
   "metadata": {
    "collapsed": false
   },
   "outputs": [
    {
     "data": {
      "text/plain": [
       "array([22, 23, 15, ...,  2,  2,  8], dtype=int32)"
      ]
     },
     "execution_count": 9,
     "metadata": {},
     "output_type": "execute_result"
    }
   ],
   "source": [
    "cluster_assignment"
   ]
  },
  {
   "cell_type": "code",
   "execution_count": 10,
   "metadata": {
    "collapsed": true
   },
   "outputs": [],
   "source": [
    "num_docs = tf_idf.shape[0]\n",
    "weights = []\n",
    "for i in xrange(num_clusters):\n",
    "    # Compute the number of data points assigned to cluster i:\n",
    "    num_assigned = cluster_assignment[cluster_assignment == i].shape[0] # YOUR CODE HERE\n",
    "    w = float(num_assigned) / num_docs\n",
    "    weights.append(w)"
   ]
  },
  {
   "cell_type": "code",
   "execution_count": 11,
   "metadata": {
    "collapsed": true
   },
   "outputs": [],
   "source": [
    "covs = []\n",
    "for i in xrange(num_clusters):\n",
    "    member_rows = tf_idf[cluster_assignment==i]\n",
    "    cov = (member_rows.power(2) - 2*member_rows.dot(diag(means[i]))).sum(axis=0).A1 / member_rows.shape[0] \\\n",
    "          + means[i]**2\n",
    "    cov[cov < 1e-8] = 1e-8\n",
    "    covs.append(cov)"
   ]
  },
  {
   "cell_type": "code",
   "execution_count": 12,
   "metadata": {
    "collapsed": true
   },
   "outputs": [],
   "source": [
    "out = EM_for_high_dimension(tf_idf, means, covs, weights, cov_smoothing=1e-10)"
   ]
  },
  {
   "cell_type": "code",
   "execution_count": 13,
   "metadata": {
    "collapsed": false
   },
   "outputs": [
    {
     "data": {
      "text/plain": [
       "[3855847476.7012835, 4844053202.46348, 4844053202.46348]"
      ]
     },
     "execution_count": 13,
     "metadata": {},
     "output_type": "execute_result"
    }
   ],
   "source": [
    "out['loglik']"
   ]
  },
  {
   "cell_type": "code",
   "execution_count": 14,
   "metadata": {
    "collapsed": false
   },
   "outputs": [
    {
     "data": {
      "text/plain": [
       "25"
      ]
     },
     "execution_count": 14,
     "metadata": {},
     "output_type": "execute_result"
    }
   ],
   "source": [
    "len(out['means'])"
   ]
  },
  {
   "cell_type": "code",
   "execution_count": 15,
   "metadata": {
    "collapsed": true
   },
   "outputs": [],
   "source": [
    "def visualize_EM_clusters(tf_idf, means, covs, map_index_to_word):\n",
    "    print('')\n",
    "    print('==========================================================')\n",
    "\n",
    "    num_clusters = len(means)\n",
    "    for c in xrange(num_clusters):\n",
    "        print('Cluster {0:d}: Largest mean parameters in cluster '.format(c))\n",
    "        print('\\n{0: <12}{1: <12}{2: <12}'.format('Word', 'Mean', 'Variance'))\n",
    "        \n",
    "        # The k'th element of sorted_word_ids should be the index of the word \n",
    "        # that has the k'th-largest value in the cluster mean. Hint: Use np.argsort().\n",
    "        sorted_word_ids = np.argsort(-means[c])\n",
    "\n",
    "        for i in sorted_word_ids[:5]:\n",
    "            print '{0: <12}{1:<10.2e}{2:10.2e}'.format(map_index_to_word['category'][i], \n",
    "                                                       means[c][i],\n",
    "                                                       covs[c][i])\n",
    "        print '\\n=========================================================='"
   ]
  },
  {
   "cell_type": "code",
   "execution_count": 16,
   "metadata": {
    "collapsed": false
   },
   "outputs": [
    {
     "name": "stdout",
     "output_type": "stream",
     "text": [
      "\n",
      "==========================================================\n",
      "Cluster 0: Largest mean parameters in cluster \n",
      "\n",
      "Word        Mean        Variance    \n",
      "minister    7.57e-02    7.42e-03\n",
      "election    5.89e-02    3.21e-03\n",
      "party       5.89e-02    2.61e-03\n",
      "liberal     2.93e-02    4.55e-03\n",
      "elected     2.91e-02    8.95e-04\n",
      "\n",
      "==========================================================\n",
      "Cluster 1: Largest mean parameters in cluster \n",
      "\n",
      "Word        Mean        Variance    \n",
      "film        1.76e-01    6.07e-03\n",
      "films       5.50e-02    2.97e-03\n",
      "festival    4.66e-02    3.60e-03\n",
      "feature     3.69e-02    1.81e-03\n",
      "directed    3.39e-02    2.22e-03\n",
      "\n",
      "==========================================================\n",
      "Cluster 2: Largest mean parameters in cluster \n",
      "\n",
      "Word        Mean        Variance    \n",
      "art         1.26e-01    6.83e-03\n",
      "museum      5.62e-02    7.27e-03\n",
      "gallery     3.65e-02    3.40e-03\n",
      "artist      3.61e-02    1.44e-03\n",
      "design      3.20e-02    4.59e-03\n",
      "\n",
      "==========================================================\n",
      "Cluster 3: Largest mean parameters in cluster \n",
      "\n",
      "Word        Mean        Variance    \n",
      "basketball  1.86e-01    7.78e-03\n",
      "nba         1.01e-01    1.22e-02\n",
      "points      6.25e-02    5.92e-03\n",
      "coach       5.57e-02    5.91e-03\n",
      "team        4.68e-02    1.30e-03\n",
      "\n",
      "==========================================================\n",
      "Cluster 4: Largest mean parameters in cluster \n",
      "\n",
      "Word        Mean        Variance    \n",
      "hockey      2.45e-01    1.64e-02\n",
      "nhl         1.56e-01    1.64e-02\n",
      "ice         6.40e-02    2.97e-03\n",
      "season      5.05e-02    2.52e-03\n",
      "league      4.31e-02    1.53e-03\n",
      "\n",
      "==========================================================\n",
      "Cluster 5: Largest mean parameters in cluster \n",
      "\n",
      "Word        Mean        Variance    \n",
      "republican  7.93e-02    5.20e-03\n",
      "senate      5.41e-02    6.28e-03\n",
      "house       4.64e-02    2.41e-03\n",
      "district    4.60e-02    2.37e-03\n",
      "democratic  4.46e-02    3.02e-03\n",
      "\n",
      "==========================================================\n",
      "Cluster 6: Largest mean parameters in cluster \n",
      "\n",
      "Word        Mean        Variance    \n",
      "she         1.60e-01    4.65e-03\n",
      "her         1.00e-01    3.14e-03\n",
      "miss        2.22e-02    7.76e-03\n",
      "women       1.43e-02    1.36e-03\n",
      "womens      1.21e-02    1.46e-03\n",
      "\n",
      "==========================================================\n",
      "Cluster 7: Largest mean parameters in cluster \n",
      "\n",
      "Word        Mean        Variance    \n",
      "championships7.78e-02    5.17e-03\n",
      "m           4.70e-02    7.58e-03\n",
      "olympics    4.69e-02    2.59e-03\n",
      "medal       4.28e-02    2.44e-03\n",
      "she         4.18e-02    5.99e-03\n",
      "\n",
      "==========================================================\n",
      "Cluster 8: Largest mean parameters in cluster \n",
      "\n",
      "Word        Mean        Variance    \n",
      "book        1.45e-02    9.38e-04\n",
      "published   1.23e-02    6.16e-04\n",
      "that        1.10e-02    1.73e-04\n",
      "novel       1.07e-02    1.43e-03\n",
      "he          1.04e-02    6.05e-05\n",
      "\n",
      "==========================================================\n",
      "Cluster 9: Largest mean parameters in cluster \n",
      "\n",
      "Word        Mean        Variance    \n",
      "she         1.37e-01    4.25e-03\n",
      "her         8.99e-02    2.74e-03\n",
      "actress     7.65e-02    4.29e-03\n",
      "film        5.98e-02    3.44e-03\n",
      "drama       5.03e-02    6.40e-03\n",
      "\n",
      "==========================================================\n",
      "Cluster 10: Largest mean parameters in cluster \n",
      "\n",
      "Word        Mean        Variance    \n",
      "soccer      1.15e-01    2.86e-02\n",
      "chess       4.52e-02    1.66e-02\n",
      "team        4.13e-02    2.15e-03\n",
      "coach       3.09e-02    4.45e-03\n",
      "league      3.07e-02    2.01e-03\n",
      "\n",
      "==========================================================\n",
      "Cluster 11: Largest mean parameters in cluster \n",
      "\n",
      "Word        Mean        Variance    \n",
      "president   2.52e-02    1.29e-03\n",
      "chairman    2.44e-02    1.97e-03\n",
      "committee   2.34e-02    2.38e-03\n",
      "served      2.24e-02    6.99e-04\n",
      "executive   2.15e-02    1.23e-03\n",
      "\n",
      "==========================================================\n",
      "Cluster 12: Largest mean parameters in cluster \n",
      "\n",
      "Word        Mean        Variance    \n",
      "music       7.26e-02    3.48e-03\n",
      "jazz        6.07e-02    1.14e-02\n",
      "hong        3.78e-02    9.92e-03\n",
      "kong        3.50e-02    8.64e-03\n",
      "chinese     3.12e-02    5.33e-03\n",
      "\n",
      "==========================================================\n",
      "Cluster 13: Largest mean parameters in cluster \n",
      "\n",
      "Word        Mean        Variance    \n",
      "university  3.47e-02    8.89e-04\n",
      "history     3.38e-02    2.81e-03\n",
      "philosophy  2.86e-02    5.35e-03\n",
      "professor   2.74e-02    1.08e-03\n",
      "studies     2.41e-02    1.95e-03\n",
      "\n",
      "==========================================================\n",
      "Cluster 14: Largest mean parameters in cluster \n",
      "\n",
      "Word        Mean        Variance    \n",
      "theatre     4.93e-02    6.17e-03\n",
      "actor       3.56e-02    2.91e-03\n",
      "television  3.21e-02    1.67e-03\n",
      "film        2.93e-02    1.16e-03\n",
      "comedy      2.86e-02    3.91e-03\n",
      "\n",
      "==========================================================\n",
      "Cluster 15: Largest mean parameters in cluster \n",
      "\n",
      "Word        Mean        Variance    \n",
      "album       6.76e-02    4.78e-03\n",
      "band        5.35e-02    4.21e-03\n",
      "music       4.18e-02    1.96e-03\n",
      "released    3.13e-02    1.11e-03\n",
      "song        2.50e-02    1.81e-03\n",
      "\n",
      "==========================================================\n",
      "Cluster 16: Largest mean parameters in cluster \n",
      "\n",
      "Word        Mean        Variance    \n",
      "tour        1.14e-01    1.92e-02\n",
      "pga         1.08e-01    2.65e-02\n",
      "racing      8.45e-02    8.26e-03\n",
      "championship6.27e-02    4.54e-03\n",
      "formula     6.06e-02    1.31e-02\n",
      "\n",
      "==========================================================\n",
      "Cluster 17: Largest mean parameters in cluster \n",
      "\n",
      "Word        Mean        Variance    \n",
      "news        5.76e-02    8.06e-03\n",
      "radio       5.18e-02    4.62e-03\n",
      "show        3.75e-02    2.56e-03\n",
      "bbc         3.63e-02    7.41e-03\n",
      "chef        3.27e-02    1.18e-02\n",
      "\n",
      "==========================================================\n",
      "Cluster 18: Largest mean parameters in cluster \n",
      "\n",
      "Word        Mean        Variance    \n",
      "football    1.11e-01    5.60e-03\n",
      "yards       7.37e-02    1.72e-02\n",
      "nfl         6.98e-02    9.15e-03\n",
      "coach       6.74e-02    7.85e-03\n",
      "quarterback 4.02e-02    7.16e-03\n",
      "\n",
      "==========================================================\n",
      "Cluster 19: Largest mean parameters in cluster \n",
      "\n",
      "Word        Mean        Variance    \n",
      "league      5.21e-02    3.13e-03\n",
      "club        5.04e-02    2.64e-03\n",
      "season      4.77e-02    2.30e-03\n",
      "rugby       4.35e-02    8.18e-03\n",
      "cup         4.22e-02    2.46e-03\n",
      "\n",
      "==========================================================\n",
      "Cluster 20: Largest mean parameters in cluster \n",
      "\n",
      "Word        Mean        Variance    \n",
      "orchestra   1.31e-01    1.06e-02\n",
      "music       1.23e-01    6.15e-03\n",
      "symphony    8.70e-02    1.08e-02\n",
      "conductor   8.16e-02    1.01e-02\n",
      "philharmonic4.96e-02    3.27e-03\n",
      "\n",
      "==========================================================\n",
      "Cluster 21: Largest mean parameters in cluster \n",
      "\n",
      "Word        Mean        Variance    \n",
      "law         9.52e-02    8.35e-03\n",
      "court       6.84e-02    5.24e-03\n",
      "judge       4.59e-02    4.44e-03\n",
      "attorney    3.74e-02    4.30e-03\n",
      "district    3.72e-02    4.20e-03\n",
      "\n",
      "==========================================================\n",
      "Cluster 22: Largest mean parameters in cluster \n",
      "\n",
      "Word        Mean        Variance    \n",
      "football    1.21e-01    6.14e-03\n",
      "afl         9.58e-02    1.31e-02\n",
      "australian  7.91e-02    1.58e-03\n",
      "club        5.93e-02    1.76e-03\n",
      "season      5.58e-02    1.83e-03\n",
      "\n",
      "==========================================================\n",
      "Cluster 23: Largest mean parameters in cluster \n",
      "\n",
      "Word        Mean        Variance    \n",
      "research    5.70e-02    2.68e-03\n",
      "science     3.50e-02    2.95e-03\n",
      "university  3.34e-02    7.14e-04\n",
      "professor   3.20e-02    1.26e-03\n",
      "physics     2.61e-02    5.43e-03\n",
      "\n",
      "==========================================================\n",
      "Cluster 24: Largest mean parameters in cluster \n",
      "\n",
      "Word        Mean        Variance    \n",
      "baseball    1.16e-01    5.57e-03\n",
      "league      1.03e-01    3.63e-03\n",
      "major       5.09e-02    1.19e-03\n",
      "games       4.66e-02    1.93e-03\n",
      "sox         4.55e-02    6.28e-03\n",
      "\n",
      "==========================================================\n"
     ]
    }
   ],
   "source": [
    "visualize_EM_clusters(tf_idf, out['means'], out['covs'], map_index_to_word)"
   ]
  },
  {
   "cell_type": "code",
   "execution_count": 17,
   "metadata": {
    "collapsed": true
   },
   "outputs": [],
   "source": [
    "np.random.seed(5) # See the note below to see why we set seed=5.\n",
    "num_clusters = len(means)\n",
    "num_docs, num_words = tf_idf.shape\n",
    "\n",
    "random_means = []\n",
    "random_covs = []\n",
    "random_weights = []\n",
    "\n",
    "for k in range(num_clusters):\n",
    "    \n",
    "    # Create a numpy array of length num_words with random normally distributed values.\n",
    "    # Use the standard univariate normal distribution (mean 0, variance 1).\n",
    "    # YOUR CODE HERE\n",
    "    mean = np.random.normal(0, 1, num_words)\n",
    "    \n",
    "    # Create a numpy array of length num_words with random values uniformly distributed between 1 and 5.\n",
    "    # YOUR CODE HERE\n",
    "    cov = np.random.uniform(1,6,num_words)\n",
    "\n",
    "    # Initially give each cluster equal weight.\n",
    "    # YOUR CODE HERE\n",
    "    weight = 1\n",
    "    \n",
    "    random_means.append(mean)\n",
    "    random_covs.append(cov)\n",
    "    random_weights.append(weight)"
   ]
  },
  {
   "cell_type": "code",
   "execution_count": 18,
   "metadata": {
    "collapsed": true
   },
   "outputs": [],
   "source": [
    "out_random_init = EM_for_high_dimension(tf_idf, random_means, random_covs, random_weights, cov_smoothing=1e-5)"
   ]
  },
  {
   "cell_type": "code",
   "execution_count": 19,
   "metadata": {
    "collapsed": false
   },
   "outputs": [
    {
     "data": {
      "text/plain": [
       "[-793165403.68923426,\n",
       " 2282407852.9796767,\n",
       " 2362262754.345324,\n",
       " 2362514453.9992857,\n",
       " 2362514453.9995394,\n",
       " 2362514453.9995394]"
      ]
     },
     "execution_count": 19,
     "metadata": {},
     "output_type": "execute_result"
    }
   ],
   "source": [
    "out_random_init['loglik']"
   ]
  },
  {
   "cell_type": "code",
   "execution_count": 20,
   "metadata": {
    "collapsed": false
   },
   "outputs": [
    {
     "name": "stdout",
     "output_type": "stream",
     "text": [
      "\n",
      "==========================================================\n",
      "Cluster 0: Largest mean parameters in cluster \n",
      "\n",
      "Word        Mean        Variance    \n",
      "she         3.90e-02    5.42e-03\n",
      "her         2.54e-02    2.14e-03\n",
      "music       2.12e-02    2.34e-03\n",
      "singapore   1.77e-02    5.52e-03\n",
      "bbc         1.17e-02    1.83e-03\n",
      "\n",
      "==========================================================\n",
      "Cluster 1: Largest mean parameters in cluster \n",
      "\n",
      "Word        Mean        Variance    \n",
      "she         1.63e-02    2.46e-03\n",
      "he          1.35e-02    1.09e-04\n",
      "music       1.16e-02    1.12e-03\n",
      "university  1.06e-02    3.07e-04\n",
      "her         1.03e-02    8.35e-04\n",
      "\n",
      "==========================================================\n",
      "Cluster 2: Largest mean parameters in cluster \n",
      "\n",
      "Word        Mean        Variance    \n",
      "she         3.12e-02    3.56e-03\n",
      "her         2.41e-02    2.52e-03\n",
      "music       1.51e-02    1.44e-03\n",
      "he          1.10e-02    1.16e-04\n",
      "festival    1.07e-02    2.03e-03\n",
      "\n",
      "==========================================================\n",
      "Cluster 3: Largest mean parameters in cluster \n",
      "\n",
      "Word        Mean        Variance    \n",
      "she         2.70e-02    3.39e-03\n",
      "her         1.81e-02    1.56e-03\n",
      "film        1.48e-02    2.16e-03\n",
      "series      1.06e-02    5.52e-04\n",
      "physics     1.05e-02    4.08e-03\n",
      "\n",
      "==========================================================\n",
      "Cluster 4: Largest mean parameters in cluster \n",
      "\n",
      "Word        Mean        Variance    \n",
      "she         2.48e-02    3.28e-03\n",
      "music       1.56e-02    1.55e-03\n",
      "her         1.37e-02    1.17e-03\n",
      "he          1.23e-02    1.11e-04\n",
      "university  1.07e-02    3.15e-04\n",
      "\n",
      "==========================================================\n",
      "Cluster 5: Largest mean parameters in cluster \n",
      "\n",
      "Word        Mean        Variance    \n",
      "she         2.83e-02    3.86e-03\n",
      "her         2.17e-02    2.27e-03\n",
      "league      2.02e-02    2.25e-03\n",
      "baseball    1.67e-02    2.07e-03\n",
      "season      1.45e-02    8.68e-04\n",
      "\n",
      "==========================================================\n",
      "Cluster 6: Largest mean parameters in cluster \n",
      "\n",
      "Word        Mean        Variance    \n",
      "she         3.20e-02    3.80e-03\n",
      "her         2.85e-02    2.77e-03\n",
      "art         1.92e-02    4.02e-03\n",
      "museum      1.27e-02    3.25e-03\n",
      "miss        1.15e-02    4.07e-03\n",
      "\n",
      "==========================================================\n",
      "Cluster 7: Largest mean parameters in cluster \n",
      "\n",
      "Word        Mean        Variance    \n",
      "she         2.41e-02    3.09e-03\n",
      "her         1.57e-02    1.38e-03\n",
      "university  1.28e-02    5.09e-04\n",
      "poker       1.16e-02    6.46e-03\n",
      "he          1.14e-02    1.08e-04\n",
      "\n",
      "==========================================================\n",
      "Cluster 8: Largest mean parameters in cluster \n",
      "\n",
      "Word        Mean        Variance    \n",
      "league      2.66e-02    2.73e-03\n",
      "season      1.89e-02    1.31e-03\n",
      "hockey      1.69e-02    6.42e-03\n",
      "team        1.68e-02    9.65e-04\n",
      "she         1.62e-02    2.19e-03\n",
      "\n",
      "==========================================================\n",
      "Cluster 9: Largest mean parameters in cluster \n",
      "\n",
      "Word        Mean        Variance    \n",
      "she         2.06e-02    2.57e-03\n",
      "her         1.44e-02    1.50e-03\n",
      "he          1.43e-02    1.31e-04\n",
      "university  1.29e-02    3.99e-04\n",
      "minister    1.11e-02    1.85e-03\n",
      "\n",
      "==========================================================\n",
      "Cluster 10: Largest mean parameters in cluster \n",
      "\n",
      "Word        Mean        Variance    \n",
      "she         2.72e-02    3.26e-03\n",
      "her         2.04e-02    1.94e-03\n",
      "chess       1.84e-02    7.59e-03\n",
      "district    1.38e-02    1.77e-03\n",
      "senate      1.35e-02    2.25e-03\n",
      "\n",
      "==========================================================\n",
      "Cluster 11: Largest mean parameters in cluster \n",
      "\n",
      "Word        Mean        Variance    \n",
      "she         1.88e-02    2.36e-03\n",
      "her         1.57e-02    1.92e-03\n",
      "album       1.54e-02    2.14e-03\n",
      "music       1.31e-02    9.88e-04\n",
      "he          1.30e-02    1.08e-04\n",
      "\n",
      "==========================================================\n",
      "Cluster 12: Largest mean parameters in cluster \n",
      "\n",
      "Word        Mean        Variance    \n",
      "she         3.65e-02    4.97e-03\n",
      "her         2.24e-02    2.15e-03\n",
      "film        1.49e-02    2.07e-03\n",
      "he          1.16e-02    1.13e-04\n",
      "university  1.11e-02    3.66e-04\n",
      "\n",
      "==========================================================\n",
      "Cluster 13: Largest mean parameters in cluster \n",
      "\n",
      "Word        Mean        Variance    \n",
      "she         2.16e-02    3.60e-03\n",
      "he          1.32e-02    9.18e-05\n",
      "university  1.16e-02    5.17e-04\n",
      "her         1.05e-02    9.54e-04\n",
      "president   9.96e-03    4.44e-04\n",
      "\n",
      "==========================================================\n",
      "Cluster 14: Largest mean parameters in cluster \n",
      "\n",
      "Word        Mean        Variance    \n",
      "law         2.67e-02    5.77e-03\n",
      "hong        2.30e-02    7.09e-03\n",
      "kong        2.22e-02    6.38e-03\n",
      "band        1.55e-02    2.17e-03\n",
      "she         1.41e-02    2.04e-03\n",
      "\n",
      "==========================================================\n",
      "Cluster 15: Largest mean parameters in cluster \n",
      "\n",
      "Word        Mean        Variance    \n",
      "league      1.60e-02    1.71e-03\n",
      "she         1.50e-02    1.89e-03\n",
      "he          1.33e-02    1.08e-04\n",
      "music       1.25e-02    9.96e-04\n",
      "university  1.17e-02    3.98e-04\n",
      "\n",
      "==========================================================\n",
      "Cluster 16: Largest mean parameters in cluster \n",
      "\n",
      "Word        Mean        Variance    \n",
      "film        1.90e-02    3.37e-03\n",
      "science     1.40e-02    2.27e-03\n",
      "research    1.30e-02    1.37e-03\n",
      "music       1.24e-02    1.28e-03\n",
      "university  1.16e-02    3.15e-04\n",
      "\n",
      "==========================================================\n",
      "Cluster 17: Largest mean parameters in cluster \n",
      "\n",
      "Word        Mean        Variance    \n",
      "she         3.03e-02    4.25e-03\n",
      "orchestra   1.74e-02    4.03e-03\n",
      "symphony    1.73e-02    5.01e-03\n",
      "music       1.65e-02    1.27e-03\n",
      "her         1.58e-02    1.11e-03\n",
      "\n",
      "==========================================================\n",
      "Cluster 18: Largest mean parameters in cluster \n",
      "\n",
      "Word        Mean        Variance    \n",
      "she         2.18e-02    3.49e-03\n",
      "music       2.16e-02    2.67e-03\n",
      "he          1.45e-02    1.30e-04\n",
      "championship1.41e-02    2.39e-03\n",
      "her         1.29e-02    1.13e-03\n",
      "\n",
      "==========================================================\n",
      "Cluster 19: Largest mean parameters in cluster \n",
      "\n",
      "Word        Mean        Variance    \n",
      "she         2.55e-02    3.81e-03\n",
      "he          1.28e-02    1.23e-04\n",
      "her         1.19e-02    1.05e-03\n",
      "served      1.14e-02    4.36e-04\n",
      "taylor      1.12e-02    3.89e-03\n",
      "\n",
      "==========================================================\n",
      "Cluster 20: Largest mean parameters in cluster \n",
      "\n",
      "Word        Mean        Variance    \n",
      "she         2.17e-02    3.30e-03\n",
      "health      1.41e-02    3.91e-03\n",
      "her         1.22e-02    1.03e-03\n",
      "he          1.20e-02    9.60e-05\n",
      "member      1.02e-02    2.95e-04\n",
      "\n",
      "==========================================================\n",
      "Cluster 21: Largest mean parameters in cluster \n",
      "\n",
      "Word        Mean        Variance    \n",
      "he          1.34e-02    9.34e-05\n",
      "she         1.30e-02    1.94e-03\n",
      "university  1.12e-02    3.16e-04\n",
      "football    1.04e-02    1.35e-03\n",
      "american    9.68e-03    4.35e-04\n",
      "\n",
      "==========================================================\n",
      "Cluster 22: Largest mean parameters in cluster \n",
      "\n",
      "Word        Mean        Variance    \n",
      "church      1.74e-02    3.41e-03\n",
      "she         1.41e-02    2.07e-03\n",
      "he          1.36e-02    1.01e-04\n",
      "her         1.18e-02    1.41e-03\n",
      "music       1.07e-02    1.27e-03\n",
      "\n",
      "==========================================================\n",
      "Cluster 23: Largest mean parameters in cluster \n",
      "\n",
      "Word        Mean        Variance    \n",
      "she         3.66e-02    6.23e-03\n",
      "her         1.96e-02    1.81e-03\n",
      "music       1.35e-02    1.28e-03\n",
      "album       1.25e-02    2.13e-03\n",
      "he          1.18e-02    1.18e-04\n",
      "\n",
      "==========================================================\n",
      "Cluster 24: Largest mean parameters in cluster \n",
      "\n",
      "Word        Mean        Variance    \n",
      "she         1.74e-02    2.68e-03\n",
      "played      1.37e-02    6.68e-04\n",
      "football    1.32e-02    2.35e-03\n",
      "he          1.21e-02    8.89e-05\n",
      "season      1.11e-02    7.14e-04\n",
      "\n",
      "==========================================================\n"
     ]
    }
   ],
   "source": [
    "visualize_EM_clusters(tf_idf, out_random_init['means'], out_random_init['covs'], map_index_to_word)"
   ]
  },
  {
   "cell_type": "code",
   "execution_count": null,
   "metadata": {
    "collapsed": true
   },
   "outputs": [],
   "source": []
  }
 ],
 "metadata": {
  "kernelspec": {
   "display_name": "Python 2",
   "language": "python",
   "name": "python2"
  },
  "language_info": {
   "codemirror_mode": {
    "name": "ipython",
    "version": 2
   },
   "file_extension": ".py",
   "mimetype": "text/x-python",
   "name": "python",
   "nbconvert_exporter": "python",
   "pygments_lexer": "ipython2",
   "version": "2.7.13"
  }
 },
 "nbformat": 4,
 "nbformat_minor": 2
}
